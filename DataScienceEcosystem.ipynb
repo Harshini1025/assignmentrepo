{
 "cells": [
  {
   "cell_type": "markdown",
   "id": "472ec481-47f9-4100-86fd-87b1c4b640bc",
   "metadata": {},
   "source": [
    "# Data Science Tools and Ecosystem"
   ]
  },
  {
   "cell_type": "markdown",
   "id": "4e21af04-775a-406b-b399-a8f7ec880f6e",
   "metadata": {},
   "source": [
    "In this notebook, Data Science Tools and Ecosystem are summarized."
   ]
  },
  {
   "cell_type": "markdown",
   "id": "5eb3ab1e-5400-473f-85cb-bcebad972b19",
   "metadata": {},
   "source": [
    "Some of the popular languages that Data Scientists use are:\n",
    "1. Python\n",
    "2. R\n",
    "3. Javascript"
   ]
  },
  {
   "cell_type": "markdown",
   "id": "16281fd8-cdcc-4c24-902d-50c42c0b71da",
   "metadata": {},
   "source": [
    "Some of the commonly used libraries used by Data Scientists include:\n",
    "1. Matplotlib\n",
    "2. Numpy\n",
    "3. Pandas\n",
    "4. skicit-learn"
   ]
  },
  {
   "cell_type": "markdown",
   "id": "99372146-9430-4d38-9170-056578e09814",
   "metadata": {},
   "source": [
    "|Data Science Tools|\n",
    "|------------------|\n",
    "|Jupyter Notebook|\n",
    "|Apache Spark|\n",
    "|Tensorflow|"
   ]
  },
  {
   "cell_type": "markdown",
   "id": "dc5dbed1-715b-4b58-935d-0b8359ff6c5d",
   "metadata": {},
   "source": [
    "### Below are a few examples of evaluating arithmetic expressions in Python:\n",
    "#### Addition:\n",
    "result = 3 + 7\n",
    "#### Subtraction:\n",
    "result = 10 - 3\n",
    "#### Multiplication:\n",
    "result = 10 * 5\n",
    "#### Division:\n",
    "result = 10 / 5"
   ]
  },
  {
   "cell_type": "code",
   "execution_count": 1,
   "id": "1696be2e-955d-48b6-b825-a5eee17eddc3",
   "metadata": {
    "tags": []
   },
   "outputs": [
    {
     "data": {
      "text/plain": [
       "17"
      ]
     },
     "execution_count": 1,
     "metadata": {},
     "output_type": "execute_result"
    }
   ],
   "source": [
    "# This a simple arithmetic expression to mutiply then add integers\n",
    "(3*4)+5"
   ]
  },
  {
   "cell_type": "code",
   "execution_count": 6,
   "id": "692540d3-8760-4863-a525-dd7736b8e62d",
   "metadata": {
    "tags": []
   },
   "outputs": [
    {
     "name": "stdout",
     "output_type": "stream",
     "text": [
      "200 min make these many hours: 3.3333333333333335\n"
     ]
    }
   ],
   "source": [
    "# This cell will convert 200 minutes into hours by divinding it with 60\n",
    "hour = 200 / 60\n",
    "print(\"200 min make these many hours:\", hour)"
   ]
  },
  {
   "cell_type": "markdown",
   "id": "00a35972-8aff-4e8d-9912-68feb3fb202d",
   "metadata": {},
   "source": [
    "__Objectives:__\n",
    "- List popular languages for data science.\n",
    "- List commonly used data science tools and libraries.\n",
    "- Introduce a few basic arithmetic operations in python.\n",
    "- Perform few basic operations."
   ]
  },
  {
   "cell_type": "markdown",
   "id": "b01e9f10-f9aa-4f7e-9c1f-30f49e6a8f92",
   "metadata": {},
   "source": [
    "## Author:\n",
    "Boireddy Venkata Siva Sai Harshini"
   ]
  },
  {
   "cell_type": "code",
   "execution_count": null,
   "id": "7434ef57-0272-4ef4-ab42-177cb6e8cb70",
   "metadata": {},
   "outputs": [],
   "source": []
  }
 ],
 "metadata": {
  "kernelspec": {
   "display_name": "Python",
   "language": "python",
   "name": "conda-env-python-py"
  },
  "language_info": {
   "codemirror_mode": {
    "name": "ipython",
    "version": 3
   },
   "file_extension": ".py",
   "mimetype": "text/x-python",
   "name": "python",
   "nbconvert_exporter": "python",
   "pygments_lexer": "ipython3",
   "version": "3.7.12"
  }
 },
 "nbformat": 4,
 "nbformat_minor": 5
}
